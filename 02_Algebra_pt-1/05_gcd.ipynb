{
 "cells": [
  {
   "cell_type": "code",
   "execution_count": 1,
   "metadata": {},
   "outputs": [],
   "source": [
    "import math\n",
    "import sympy as sym\n",
    "import numpy as np\n",
    "from IPython.display import display, Math"
   ]
  },
  {
   "cell_type": "code",
   "execution_count": 2,
   "metadata": {},
   "outputs": [
    {
     "data": {
      "text/plain": [
       "4"
      ]
     },
     "execution_count": 2,
     "metadata": {},
     "output_type": "execute_result"
    }
   ],
   "source": [
    "math.gcd(4, 16)"
   ]
  },
  {
   "cell_type": "code",
   "execution_count": 3,
   "metadata": {},
   "outputs": [
    {
     "data": {
      "text/latex": [
       "$\\displaystyle \\frac{16}{88} = \\frac{2\\times 8}{11 \\times 8}$"
      ],
      "text/plain": [
       "<IPython.core.display.Math object>"
      ]
     },
     "metadata": {},
     "output_type": "display_data"
    }
   ],
   "source": [
    "a = 16\n",
    "b = 88\n",
    "\n",
    "fact = math.gcd(a, b)\n",
    "\n",
    "display(Math('\\\\frac{%g}{%g} = \\\\frac{%g\\\\times %g}{%g \\\\times %g}' %(a, b, a/fact, fact, b/fact, fact)))"
   ]
  },
  {
   "cell_type": "code",
   "execution_count": 4,
   "metadata": {},
   "outputs": [
    {
     "name": "stdout",
     "output_type": "stream",
     "text": [
      "c\n",
      "c\n",
      "9\n",
      "9\n"
     ]
    }
   ],
   "source": [
    "a, b, c = sym.symbols('a b c')\n",
    "\n",
    "print(sym.gcd(a*c, b*c))\n",
    "print(c*sym.gcd(a, b))\n",
    "\n",
    "a = 15\n",
    "b = 6\n",
    "c = 3\n",
    "\n",
    "print(math.gcd(a*c, b*c))\n",
    "print(c*math.gcd(a, b))"
   ]
  },
  {
   "cell_type": "code",
   "execution_count": 5,
   "metadata": {},
   "outputs": [
    {
     "data": {
      "text/latex": [
       "$\\displaystyle \\left[\\begin{array}{}1.0 & 1.0 & 1.0 & 1.0 & 1.0 & 1.0 & 1.0 & 1.0 & 1.0 & 1.0 & 1.0 & 1.0 & 1.0 & 1.0 & 1.0\\\\1.0 & 2.0 & 1.0 & 2.0 & 1.0 & 2.0 & 1.0 & 2.0 & 1.0 & 2.0 & 1.0 & 2.0 & 1.0 & 2.0 & 1.0\\\\1.0 & 1.0 & 3.0 & 1.0 & 1.0 & 3.0 & 1.0 & 1.0 & 3.0 & 1.0 & 1.0 & 3.0 & 1.0 & 1.0 & 3.0\\\\1.0 & 2.0 & 1.0 & 4.0 & 1.0 & 2.0 & 1.0 & 4.0 & 1.0 & 2.0 & 1.0 & 4.0 & 1.0 & 2.0 & 1.0\\\\1.0 & 1.0 & 1.0 & 1.0 & 5.0 & 1.0 & 1.0 & 1.0 & 1.0 & 5.0 & 1.0 & 1.0 & 1.0 & 1.0 & 5.0\\\\1.0 & 2.0 & 3.0 & 2.0 & 1.0 & 6.0 & 1.0 & 2.0 & 3.0 & 2.0 & 1.0 & 6.0 & 1.0 & 2.0 & 3.0\\\\1.0 & 1.0 & 1.0 & 1.0 & 1.0 & 1.0 & 7.0 & 1.0 & 1.0 & 1.0 & 1.0 & 1.0 & 1.0 & 7.0 & 1.0\\\\1.0 & 2.0 & 1.0 & 4.0 & 1.0 & 2.0 & 1.0 & 8.0 & 1.0 & 2.0 & 1.0 & 4.0 & 1.0 & 2.0 & 1.0\\\\1.0 & 1.0 & 3.0 & 1.0 & 1.0 & 3.0 & 1.0 & 1.0 & 9.0 & 1.0 & 1.0 & 3.0 & 1.0 & 1.0 & 3.0\\\\1.0 & 2.0 & 1.0 & 2.0 & 5.0 & 2.0 & 1.0 & 2.0 & 1.0 & 10.0 & 1.0 & 2.0 & 1.0 & 2.0 & 5.0\\end{array}\\right]$"
      ],
      "text/plain": [
       "<IPython.core.display.Math object>"
      ]
     },
     "metadata": {},
     "output_type": "display_data"
    }
   ],
   "source": [
    "n = 10\n",
    "m = 15\n",
    "\n",
    "gcdMat = np.ones([n,m])*99\n",
    "\n",
    "for rowi in range(0, n):\n",
    "    for coli in range(0, m):\n",
    "        gcdMat[rowi, coli] = math.gcd(rowi+1, coli+1)\n",
    "\n",
    "display(Math(sym.latex(sym.simplify(gcdMat))))"
   ]
  }
 ],
 "metadata": {
  "kernelspec": {
   "display_name": "math_env",
   "language": "python",
   "name": "python3"
  },
  "language_info": {
   "codemirror_mode": {
    "name": "ipython",
    "version": 3
   },
   "file_extension": ".py",
   "mimetype": "text/x-python",
   "name": "python",
   "nbconvert_exporter": "python",
   "pygments_lexer": "ipython3",
   "version": "3.11.4"
  }
 },
 "nbformat": 4,
 "nbformat_minor": 2
}
