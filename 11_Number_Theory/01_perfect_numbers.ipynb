{
 "cells": [
  {
   "cell_type": "code",
   "execution_count": 1,
   "metadata": {},
   "outputs": [],
   "source": [
    "# Perfect Number : A positive integer that equals the sum of its positive divisors (excluding the number)\n",
    "# 6 = 1 + 2 + 3"
   ]
  },
  {
   "cell_type": "code",
   "execution_count": 2,
   "metadata": {},
   "outputs": [],
   "source": [
    "# Write an algorithm to test of a number is perfect. Find all of perfect numbers between 2 and 10000"
   ]
  },
  {
   "cell_type": "code",
   "execution_count": 3,
   "metadata": {},
   "outputs": [
    {
     "data": {
      "text/plain": [
       "True"
      ]
     },
     "execution_count": 3,
     "metadata": {},
     "output_type": "execute_result"
    }
   ],
   "source": [
    "number = 6\n",
    "\n",
    "divisors = []\n",
    "\n",
    "for d in range(1, number):\n",
    "    remainder = number % d\n",
    "    if remainder == 0:\n",
    "        divisors.append(d)\n",
    "\n",
    "sum(divisors) == number"
   ]
  },
  {
   "cell_type": "code",
   "execution_count": 4,
   "metadata": {},
   "outputs": [],
   "source": [
    "def test_for_perfect(number):\n",
    "    divisors = []\n",
    "    for d in range(1, number):\n",
    "        remainder = number % d\n",
    "        if remainder == 0:\n",
    "            divisors.append(d)\n",
    "\n",
    "    return sum(divisors) == number"
   ]
  },
  {
   "cell_type": "code",
   "execution_count": 5,
   "metadata": {},
   "outputs": [
    {
     "data": {
      "text/plain": [
       "False"
      ]
     },
     "execution_count": 5,
     "metadata": {},
     "output_type": "execute_result"
    }
   ],
   "source": [
    "test_for_perfect(24)"
   ]
  },
  {
   "cell_type": "code",
   "execution_count": 6,
   "metadata": {},
   "outputs": [
    {
     "data": {
      "text/plain": [
       "True"
      ]
     },
     "execution_count": 6,
     "metadata": {},
     "output_type": "execute_result"
    }
   ],
   "source": [
    "test_for_perfect(28)"
   ]
  },
  {
   "cell_type": "code",
   "execution_count": 7,
   "metadata": {},
   "outputs": [
    {
     "data": {
      "text/plain": [
       "[6, 28, 496, 8128]"
      ]
     },
     "execution_count": 7,
     "metadata": {},
     "output_type": "execute_result"
    }
   ],
   "source": [
    "perfect_nums = []\n",
    "\n",
    "for number in range(2, 10001):\n",
    "    if test_for_perfect(number):\n",
    "        perfect_nums.append(number)\n",
    "\n",
    "perfect_nums"
   ]
  },
  {
   "cell_type": "code",
   "execution_count": 8,
   "metadata": {},
   "outputs": [],
   "source": [
    "# Rewrite the function using list comprehension\n",
    "\n",
    "def test_for_perfect_two(number):\n",
    "    return number == sum([d for d in range(1, number) if(number%d == 0)])"
   ]
  }
 ],
 "metadata": {
  "kernelspec": {
   "display_name": "math_env",
   "language": "python",
   "name": "python3"
  },
  "language_info": {
   "codemirror_mode": {
    "name": "ipython",
    "version": 3
   },
   "file_extension": ".py",
   "mimetype": "text/x-python",
   "name": "python",
   "nbconvert_exporter": "python",
   "pygments_lexer": "ipython3",
   "version": "3.11.4"
  }
 },
 "nbformat": 4,
 "nbformat_minor": 2
}
