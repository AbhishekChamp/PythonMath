{
 "cells": [
  {
   "cell_type": "code",
   "execution_count": 1,
   "metadata": {},
   "outputs": [],
   "source": [
    "# A matrix is invertible if it is:\n",
    "# Square\n",
    "# Full rank"
   ]
  },
  {
   "cell_type": "code",
   "execution_count": 2,
   "metadata": {},
   "outputs": [],
   "source": [
    "import numpy as np\n",
    "import matplotlib.pyplot as plt"
   ]
  },
  {
   "cell_type": "code",
   "execution_count": 3,
   "metadata": {},
   "outputs": [
    {
     "name": "stdout",
     "output_type": "stream",
     "text": [
      "[[ 5 -1  0  5  2]\n",
      " [-2 -1  3  1  4]\n",
      " [-4  4  1  1  1]\n",
      " [ 3  5  5  5 -3]\n",
      " [-1 -4  1  2  1]]\n",
      "[[ 0.05780482  0.06599579 -0.15445823  0.02270068 -0.15703253]\n",
      " [ 0.03533817  0.00795694  0.08776036  0.00982916 -0.16077697]\n",
      " [-0.11935408  0.19166862 -0.15071378  0.11912006 -0.01989235]\n",
      " [ 0.1092909  -0.13433185  0.16545752  0.01053124  0.18488182]\n",
      " [ 0.09992979  0.17481863  0.01638193 -0.07816522 -0.1500117 ]]\n"
     ]
    },
    {
     "data": {
      "image/png": "[encoded data removed]",
      "text/plain": [
       "<Figure size 640x480 with 3 Axes>"
      ]
     },
     "metadata": {},
     "output_type": "display_data"
    }
   ],
   "source": [
    "m = 5\n",
    "\n",
    "A = np.random.randint(-5, 6, (m, m))\n",
    "Ainv = np.linalg.inv(A)\n",
    "\n",
    "print(A)\n",
    "print(Ainv)\n",
    "\n",
    "fig, ax = plt.subplots(1, 3)\n",
    "\n",
    "ax[0].imshow(A)\n",
    "ax[0].set_title('A')\n",
    "\n",
    "ax[1].imshow(Ainv)\n",
    "ax[1].set_title('A$^{-1}$')\n",
    "\n",
    "ax[2].imshow(A@Ainv)\n",
    "ax[2].set_title('AA$^{-1}$')\n",
    "\n",
    "plt.show()"
   ]
  },
  {
   "cell_type": "code",
   "execution_count": 4,
   "metadata": {},
   "outputs": [],
   "source": [
    "# Compute the pseudoinverse and make images of A, A*, AA* for:\n",
    "\n",
    "# 1. A 5x5 matrix with random integers between -5 and +5, where the first column equals the second column\n",
    "\n",
    "# 2. A 5x7 matrix of Gaussian random numbers"
   ]
  },
  {
   "cell_type": "code",
   "execution_count": 5,
   "metadata": {},
   "outputs": [
    {
     "name": "stdout",
     "output_type": "stream",
     "text": [
      "[[ 0  0  4  1  5]\n",
      " [-4 -4  1  0 -5]\n",
      " [-4 -4 -4  5 -5]\n",
      " [ 2  2  5  4  4]\n",
      " [ 0  0  1  1  3]]\n",
      "[[-0.1 -0.1 -0.   0.1 -0.1]\n",
      " [-0.1 -0.1 -0.   0.1 -0.1]\n",
      " [ 0.   0.1 -0.1  0.1 -0.1]\n",
      " [-0.  -0.   0.1  0.1 -0. ]\n",
      " [ 0.2 -0.1  0.  -0.1  0.1]]\n",
      "[[ 0.7  0.1 -0.1  0.1  0.4]\n",
      " [ 0.1  1.   0.  -0.  -0.2]\n",
      " [-0.1  0.   1.   0.   0.1]\n",
      " [ 0.1 -0.   0.   1.  -0.1]\n",
      " [ 0.4 -0.2  0.1 -0.1  0.3]]\n"
     ]
    },
    {
     "data": {
      "image/png": "[encoded data removed]",
      "text/plain": [
       "<Figure size 640x480 with 3 Axes>"
      ]
     },
     "metadata": {},
     "output_type": "display_data"
    }
   ],
   "source": [
    "m = 5\n",
    "A = np.random.randint(-m, m+1, (m, m))\n",
    "A[:, 0] = A[:, 1]\n",
    "\n",
    "print(np.round(A, 1))\n",
    "\n",
    "Apinv = np.linalg.pinv(A)\n",
    "print(np.round(Apinv, 1))\n",
    "\n",
    "print(np.round(A@Apinv, 1))\n",
    "\n",
    "fig, ax = plt.subplots(1, 3)\n",
    "\n",
    "ax[0].imshow(A)\n",
    "ax[0].set_title('A')\n",
    "\n",
    "ax[1].imshow(Apinv)\n",
    "ax[1].set_title('A$^*$')\n",
    "\n",
    "ax[2].imshow(A@Apinv)\n",
    "ax[2].set_title('AA$^*$')\n",
    "\n",
    "for i in ax:\n",
    "    i.axis('off')\n",
    "\n",
    "plt.show()"
   ]
  },
  {
   "cell_type": "code",
   "execution_count": 6,
   "metadata": {},
   "outputs": [
    {
     "name": "stdout",
     "output_type": "stream",
     "text": [
      "[[-1.1 -0.3 -1.2  0.4 -0.6 -0.9 -1.1]\n",
      " [-0.4  0.5 -1.3  1.8  2.2  0.4  1.1]\n",
      " [ 1.5  0.5  0.1 -0.1 -0.2 -0.5 -0.6]\n",
      " [-0.7  1.1  0.7  0.3  0.8  0.2 -1.2]\n",
      " [ 0.7 -0.6 -1.   0.9  1.9 -0.8 -0.4]]\n",
      "[[-0.2  0.   0.4 -0.2  0.1]\n",
      " [ 0.1  0.3  0.5  0.2 -0.5]\n",
      " [-0.3 -0.2 -0.2  0.2  0.1]\n",
      " [ 0.1  0.2  0.2  0.  -0.1]\n",
      " [-0.2 -0.1 -0.3  0.2  0.4]\n",
      " [-0.2  0.1 -0.1  0.1 -0.1]\n",
      " [-0.2  0.2 -0.  -0.3 -0.2]]\n",
      "[[ 1.  0. -0.  0. -0.]\n",
      " [-0.  1.  0.  0.  0.]\n",
      " [ 0.  0.  1. -0. -0.]\n",
      " [ 0.  0. -0.  1. -0.]\n",
      " [ 0.  0. -0. -0.  1.]]\n"
     ]
    },
    {
     "data": {
      "image/png": "[encoded data removed]",
      "text/plain": [
       "<Figure size 640x480 with 3 Axes>"
      ]
     },
     "metadata": {},
     "output_type": "display_data"
    }
   ],
   "source": [
    "m = 5\n",
    "A = np.random.randn(m, m+2)\n",
    "\n",
    "print(np.round(A, 1))\n",
    "\n",
    "Apinv = np.linalg.pinv(A)\n",
    "print(np.round(Apinv, 1))\n",
    "\n",
    "print(np.round(A@Apinv, 1))\n",
    "\n",
    "fig, ax = plt.subplots(1, 3)\n",
    "\n",
    "ax[0].imshow(A)\n",
    "ax[0].set_title('A')\n",
    "\n",
    "ax[1].imshow(Apinv)\n",
    "ax[1].set_title('A$^*$')\n",
    "\n",
    "ax[2].imshow(A@Apinv)\n",
    "ax[2].set_title('AA$^*$')\n",
    "\n",
    "for i in ax:\n",
    "    i.axis('off')\n",
    "\n",
    "plt.show()"
   ]
  }
 ],
 "metadata": {
  "kernelspec": {
   "display_name": "math_env",
   "language": "python",
   "name": "python3"
  },
  "language_info": {
   "codemirror_mode": {
    "name": "ipython",
    "version": 3
   },
   "file_extension": ".py",
   "mimetype": "text/x-python",
   "name": "python",
   "nbconvert_exporter": "python",
   "pygments_lexer": "ipython3",
   "version": "3.11.4"
  }
 },
 "nbformat": 4,
 "nbformat_minor": 2
}
