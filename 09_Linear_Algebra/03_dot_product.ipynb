{
 "cells": [
  {
   "cell_type": "code",
   "execution_count": 1,
   "metadata": {},
   "outputs": [],
   "source": [
    "import numpy as np\n",
    "import matplotlib.pyplot as plt\n",
    "from IPython.display import display, Math"
   ]
  },
  {
   "cell_type": "code",
   "execution_count": 2,
   "metadata": {},
   "outputs": [
    {
     "name": "stdout",
     "output_type": "stream",
     "text": [
      "596 596 596\n"
     ]
    }
   ],
   "source": [
    "v = np.arange(10, 22, 3)\n",
    "w = np.arange(5, 15, 3)\n",
    "\n",
    "dp1 = 0\n",
    "\n",
    "for i in range(0, len(v)):\n",
    "    dp1 = dp1 + v[i] * w[i]\n",
    "\n",
    "dp2 = np.sum(np.multiply(v, w))\n",
    "\n",
    "dp3 = np.dot(v, w)\n",
    "\n",
    "print(dp1, dp2, dp3)"
   ]
  },
  {
   "cell_type": "code",
   "execution_count": 3,
   "metadata": {},
   "outputs": [],
   "source": [
    "def myDotProduct(v, w):\n",
    "\n",
    "    v = np.squeeze(v)\n",
    "    w = np.squeeze(w)\n",
    "\n",
    "    # test whether the dot product is defined\n",
    "    if len(v) != len(w):\n",
    "        raise ValueError('Vectors must have the same length')\n",
    "    \n",
    "    # compute and display the dot product\n",
    "    display(Math('v^Tw=%g' %np.dot(v, w)))"
   ]
  },
  {
   "cell_type": "code",
   "execution_count": 4,
   "metadata": {},
   "outputs": [
    {
     "data": {
      "text/latex": [
       "$\\displaystyle v^Tw=0$"
      ],
      "text/plain": [
       "<IPython.core.display.Math object>"
      ]
     },
     "metadata": {},
     "output_type": "display_data"
    }
   ],
   "source": [
    "v1 = np.array([0, 1])\n",
    "v2 = np.array([1, 0])\n",
    "\n",
    "myDotProduct(v1, v2)"
   ]
  },
  {
   "cell_type": "code",
   "execution_count": 5,
   "metadata": {},
   "outputs": [
    {
     "ename": "ValueError",
     "evalue": "Vectors must have the same length",
     "output_type": "error",
     "traceback": [
      "\u001b[0;31m---------------------------------------------------------------------------\u001b[0m",
      "\u001b[0;31mValueError\u001b[0m                                Traceback (most recent call last)",
      "Cell \u001b[0;32mIn[5], line 4\u001b[0m\n\u001b[1;32m      1\u001b[0m v1 \u001b[38;5;241m=\u001b[39m np\u001b[38;5;241m.\u001b[39marray([\u001b[38;5;241m1\u001b[39m, \u001b[38;5;241m1\u001b[39m, \u001b[38;5;241m4\u001b[39m])\n\u001b[1;32m      2\u001b[0m v2 \u001b[38;5;241m=\u001b[39m np\u001b[38;5;241m.\u001b[39marray([\u001b[38;5;241m1\u001b[39m, \u001b[38;5;241m0\u001b[39m])\n\u001b[0;32m----> 4\u001b[0m \u001b[43mmyDotProduct\u001b[49m\u001b[43m(\u001b[49m\u001b[43mv1\u001b[49m\u001b[43m,\u001b[49m\u001b[43m \u001b[49m\u001b[43mv2\u001b[49m\u001b[43m)\u001b[49m\n",
      "Cell \u001b[0;32mIn[3], line 8\u001b[0m, in \u001b[0;36mmyDotProduct\u001b[0;34m(v, w)\u001b[0m\n\u001b[1;32m      6\u001b[0m \u001b[38;5;66;03m# test whether the dot product is defined\u001b[39;00m\n\u001b[1;32m      7\u001b[0m \u001b[38;5;28;01mif\u001b[39;00m \u001b[38;5;28mlen\u001b[39m(v) \u001b[38;5;241m!=\u001b[39m \u001b[38;5;28mlen\u001b[39m(w):\n\u001b[0;32m----> 8\u001b[0m     \u001b[38;5;28;01mraise\u001b[39;00m \u001b[38;5;167;01mValueError\u001b[39;00m(\u001b[38;5;124m'\u001b[39m\u001b[38;5;124mVectors must have the same length\u001b[39m\u001b[38;5;124m'\u001b[39m)\n\u001b[1;32m     10\u001b[0m \u001b[38;5;66;03m# compute and display the dot product\u001b[39;00m\n\u001b[1;32m     11\u001b[0m display(Math(\u001b[38;5;124m'\u001b[39m\u001b[38;5;124mv^Tw=\u001b[39m\u001b[38;5;132;01m%g\u001b[39;00m\u001b[38;5;124m'\u001b[39m \u001b[38;5;241m%\u001b[39mnp\u001b[38;5;241m.\u001b[39mdot(v, w)))\n",
      "\u001b[0;31mValueError\u001b[0m: Vectors must have the same length"
     ]
    }
   ],
   "source": [
    "v1 = np.array([1, 1, 4])\n",
    "v2 = np.array([1, 0])\n",
    "\n",
    "myDotProduct(v1, v2)"
   ]
  },
  {
   "cell_type": "code",
   "execution_count": 6,
   "metadata": {},
   "outputs": [
    {
     "name": "stdout",
     "output_type": "stream",
     "text": [
      "(5, 10)\n",
      "(1, 10)\n",
      "(5, 10)\n",
      "(10,)\n"
     ]
    }
   ],
   "source": [
    "v1 = np.random.randn(5, 10)\n",
    "v2 = np.random.randn(1, 10)\n",
    "\n",
    "print(np.shape(v1))\n",
    "print(np.shape(v2))\n",
    "\n",
    "v1 = np.squeeze(v1)\n",
    "v2 = np.squeeze(v2)\n",
    "\n",
    "print(np.shape(v1))\n",
    "print(np.shape(v2))"
   ]
  },
  {
   "cell_type": "code",
   "execution_count": 7,
   "metadata": {},
   "outputs": [
    {
     "data": {
      "text/latex": [
       "$\\displaystyle v^Tw=-0.174535$"
      ],
      "text/plain": [
       "<IPython.core.display.Math object>"
      ]
     },
     "metadata": {},
     "output_type": "display_data"
    }
   ],
   "source": [
    "v1 = np.random.randn(1, 10)\n",
    "v2 = np.random.randn(1, 10)\n",
    "\n",
    "myDotProduct(v1, v2)"
   ]
  },
  {
   "cell_type": "code",
   "execution_count": 8,
   "metadata": {},
   "outputs": [],
   "source": [
    "# Correlation coefficient\n",
    "\n",
    "# coefficient = np.dot(x, y) / (np.sqrt(np.dot(x, x)) * np.sqrt(np.dot(y, y)))"
   ]
  },
  {
   "cell_type": "code",
   "execution_count": 9,
   "metadata": {},
   "outputs": [
    {
     "name": "stdout",
     "output_type": "stream",
     "text": [
      "0.6053020602414296\n",
      "[[1.         0.60530206]\n",
      " [0.60530206 1.        ]]\n",
      "0.60530206024143\n"
     ]
    }
   ],
   "source": [
    "# data\n",
    "courses = [4, 5, 8, 2, 9, 9, 1, 3, 7]\n",
    "happiness = [6, 7, 9, 3, 9, 3, 1, 6, 7]\n",
    "\n",
    "# mean-center\n",
    "c = courses - np.mean(courses)\n",
    "h = happiness - np.mean(happiness)\n",
    "\n",
    "# compute the correlation\n",
    "numerator = np.dot(c, h)\n",
    "denominator = np.sqrt(np.dot(c, c)) * np.sqrt(np.dot(h, h))\n",
    "\n",
    "r1 = numerator / denominator\n",
    "\n",
    "r2 = np.corrcoef(c, h)\n",
    "\n",
    "r3 = np.corrcoef(c, h)[1][0]\n",
    "\n",
    "print(r1)\n",
    "print(r2)\n",
    "print(r3)"
   ]
  },
  {
   "cell_type": "code",
   "execution_count": 10,
   "metadata": {},
   "outputs": [
    {
     "data": {
      "image/png": "[encoded data removed]",
      "text/plain": [
       "<Figure size 640x480 with 1 Axes>"
      ]
     },
     "metadata": {},
     "output_type": "display_data"
    }
   ],
   "source": [
    "plt.plot(courses, happiness, 'ms', label='r=%g' %np.round(r1, 2))\n",
    "\n",
    "plt.axis([0, 10, 0, 10])\n",
    "plt.legend()\n",
    "plt.gca().set_aspect('equal')\n",
    "plt.xlabel('Courses')\n",
    "plt.ylabel('Happiness')\n",
    "plt.show()"
   ]
  }
 ],
 "metadata": {
  "kernelspec": {
   "display_name": "math_env",
   "language": "python",
   "name": "python3"
  },
  "language_info": {
   "codemirror_mode": {
    "name": "ipython",
    "version": 3
   },
   "file_extension": ".py",
   "mimetype": "text/x-python",
   "name": "python",
   "nbconvert_exporter": "python",
   "pygments_lexer": "ipython3",
   "version": "3.11.4"
  }
 },
 "nbformat": 4,
 "nbformat_minor": 2
}
