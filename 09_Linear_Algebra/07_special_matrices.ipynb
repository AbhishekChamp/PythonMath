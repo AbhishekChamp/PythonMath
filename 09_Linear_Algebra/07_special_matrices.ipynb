{
 "cells": [
  {
   "cell_type": "code",
   "execution_count": 1,
   "metadata": {},
   "outputs": [],
   "source": [
    "import numpy as np\n",
    "import matplotlib.pyplot as plt\n",
    "from scipy.linalg import toeplitz"
   ]
  },
  {
   "cell_type": "code",
   "execution_count": 2,
   "metadata": {},
   "outputs": [
    {
     "name": "stdout",
     "output_type": "stream",
     "text": [
      "[[1. 0. 0. 0. 0. 0. 0.]\n",
      " [0. 1. 0. 0. 0. 0. 0.]\n",
      " [0. 0. 1. 0. 0. 0. 0.]\n",
      " [0. 0. 0. 1. 0. 0. 0.]\n",
      " [0. 0. 0. 0. 1. 0. 0.]\n",
      " [0. 0. 0. 0. 0. 1. 0.]\n",
      " [0. 0. 0. 0. 0. 0. 1.]]\n"
     ]
    }
   ],
   "source": [
    "I = np.eye(7)\n",
    "print(I)"
   ]
  },
  {
   "cell_type": "code",
   "execution_count": 3,
   "metadata": {},
   "outputs": [
    {
     "name": "stdout",
     "output_type": "stream",
     "text": [
      "[[0. 0. 0. 0. 0. 0. 0. 0. 0. 0. 0. 0. 0. 0.]\n",
      " [0. 0. 0. 0. 0. 0. 0. 0. 0. 0. 0. 0. 0. 0.]\n",
      " [0. 0. 0. 0. 0. 0. 0. 0. 0. 0. 0. 0. 0. 0.]\n",
      " [0. 0. 0. 0. 0. 0. 0. 0. 0. 0. 0. 0. 0. 0.]]\n"
     ]
    }
   ],
   "source": [
    "Z = np.zeros((4, 14))\n",
    "print(Z)"
   ]
  },
  {
   "cell_type": "code",
   "execution_count": 4,
   "metadata": {},
   "outputs": [
    {
     "name": "stdout",
     "output_type": "stream",
     "text": [
      "[[1 0 0 0 0]\n",
      " [0 4 0 0 0]\n",
      " [0 0 6 0 0]\n",
      " [0 0 0 3 0]\n",
      " [0 0 0 0 0]]\n"
     ]
    }
   ],
   "source": [
    "D = np.diag([1, 4, 6, 3, 0])\n",
    "print(D)"
   ]
  },
  {
   "cell_type": "code",
   "execution_count": 5,
   "metadata": {},
   "outputs": [
    {
     "name": "stdout",
     "output_type": "stream",
     "text": [
      "[-1.16743393  0.72913855 -0.66004149  1.06638662  0.09088979 -0.68697756]\n"
     ]
    }
   ],
   "source": [
    "d = np.diagonal(np.random.randn(6, 6))\n",
    "print(d)"
   ]
  },
  {
   "cell_type": "code",
   "execution_count": 6,
   "metadata": {},
   "outputs": [
    {
     "data": {
      "image/png": "[encoded data removed]",
      "text/plain": [
       "<Figure size 640x480 with 3 Axes>"
      ]
     },
     "metadata": {},
     "output_type": "display_data"
    }
   ],
   "source": [
    "T = np.random.randn(15, 15)\n",
    "\n",
    "plt.subplot(131)\n",
    "plt.imshow(T)\n",
    "plt.subplot(132)\n",
    "plt.imshow(np.triu(T))\n",
    "plt.subplot(133)\n",
    "plt.imshow(np.tril(T))\n",
    "plt.show()"
   ]
  },
  {
   "cell_type": "code",
   "execution_count": 7,
   "metadata": {},
   "outputs": [
    {
     "name": "stdout",
     "output_type": "stream",
     "text": [
      "[[-4  2  4  0]\n",
      " [-3 -3  3  2]\n",
      " [-2 -1  3 -3]\n",
      " [-3 -1  3 -4]]\n",
      "\n",
      "\n",
      "[[-4.  2.  4.  0.]\n",
      " [-3. -3.  3.  2.]\n",
      " [-2. -1.  3. -3.]\n",
      " [-3. -1.  3. -4.]]\n",
      "\n",
      "\n",
      "[[-1.9563603   0.75260572 -0.39119408  1.78185945]\n",
      " [-1.46727023 -3.85530698 -3.12602737 -0.93479416]\n",
      " [-0.97818015 -1.58803548 -1.22861563 -0.99127959]\n",
      " [-1.46727023 -1.89096864 -1.8670799  -2.36981057]]\n"
     ]
    }
   ],
   "source": [
    "# Create a 4x4 matrix of random integers between -4 and 4. Multiply this matrix by (1) the identity matrix and (2) by an upper-triangular random-numbers matrix\n",
    "\n",
    "intmat = np.random.randint(-4, 5, (4, 4))\n",
    "I4 = np.eye(4)\n",
    "upper4 = np.triu(np.random.rand(4, 4))\n",
    "\n",
    "print(intmat)\n",
    "print('\\n')\n",
    "print(intmat@I4)\n",
    "print('\\n')\n",
    "print(intmat@upper4)"
   ]
  },
  {
   "cell_type": "code",
   "execution_count": 8,
   "metadata": {},
   "outputs": [
    {
     "name": "stdout",
     "output_type": "stream",
     "text": [
      "[[1 2 3 4 5]\n",
      " [2 1 2 3 4]\n",
      " [3 2 1 2 3]\n",
      " [4 3 2 1 2]\n",
      " [5 4 3 2 1]]\n"
     ]
    },
    {
     "data": {
      "text/plain": [
       "<matplotlib.image.AxesImage at 0x1306e38d0>"
      ]
     },
     "execution_count": 8,
     "metadata": {},
     "output_type": "execute_result"
    },
    {
     "data": {
      "image/png": "[encoded data removed]",
      "text/plain": [
       "<Figure size 640x480 with 1 Axes>"
      ]
     },
     "metadata": {},
     "output_type": "display_data"
    }
   ],
   "source": [
    "# Create a Toeplitz matrix and figure out how it is created\n",
    "\n",
    "toe = toeplitz(np.arange(1, 6))\n",
    "print(toe)\n",
    "plt.imshow(toe)"
   ]
  }
 ],
 "metadata": {
  "kernelspec": {
   "display_name": "math_env",
   "language": "python",
   "name": "python3"
  },
  "language_info": {
   "codemirror_mode": {
    "name": "ipython",
    "version": 3
   },
   "file_extension": ".py",
   "mimetype": "text/x-python",
   "name": "python",
   "nbconvert_exporter": "python",
   "pygments_lexer": "ipython3",
   "version": "3.11.4"
  }
 },
 "nbformat": 4,
 "nbformat_minor": 2
}
