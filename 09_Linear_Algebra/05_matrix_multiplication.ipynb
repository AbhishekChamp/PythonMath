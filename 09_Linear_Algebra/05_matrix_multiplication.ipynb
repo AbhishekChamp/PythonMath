{
 "cells": [
  {
   "cell_type": "code",
   "execution_count": 1,
   "metadata": {},
   "outputs": [],
   "source": [
    "import numpy as np"
   ]
  },
  {
   "cell_type": "code",
   "execution_count": 2,
   "metadata": {},
   "outputs": [
    {
     "data": {
      "text/plain": [
       "(14, 14)"
      ]
     },
     "execution_count": 2,
     "metadata": {},
     "output_type": "execute_result"
    }
   ],
   "source": [
    "A = np.random.randn(14, 10)\n",
    "B = np.random.randn(14, 10)\n",
    "C = np.random.randn(10, 14)\n",
    "\n",
    "# A@B is not valid\n",
    "\n",
    "np.shape(C@B)\n",
    "np.shape(B@C)"
   ]
  },
  {
   "cell_type": "code",
   "execution_count": 3,
   "metadata": {},
   "outputs": [],
   "source": [
    "def matrixMultiplication(A, B):\n",
    "\n",
    "    # get matrix sizes\n",
    "    size_A = np.shape(A)\n",
    "    size_B = np.shape(B)\n",
    "\n",
    "    # check sizes and give error (if multiplication is not valid)\n",
    "    if size_A[1] != size_B[0]:\n",
    "        raise ValueError(\"Inner dimensions don't match\")\n",
    "    \n",
    "    # initialize\n",
    "    C = np.zeros((size_A[0], size_B[1]))\n",
    "\n",
    "    # compute\n",
    "    for i in range(size_A[0]):\n",
    "        for j in range(size_B[1]):\n",
    "            C[i, j] = np.dot(A[i, :], B[:, j])\n",
    "    \n",
    "    return C"
   ]
  },
  {
   "cell_type": "code",
   "execution_count": 4,
   "metadata": {},
   "outputs": [
    {
     "name": "stdout",
     "output_type": "stream",
     "text": [
      "[[-0.76781292 -2.6648828  -3.65506659 -7.32973708]\n",
      " [-0.23283435 -2.8077352  -3.60734815 -5.15434975]\n",
      " [-3.24539329 -7.20406214  0.74101486 -0.47913463]\n",
      " [-2.01001423 -3.96694438 -0.11504148  1.00547852]]\n",
      "[[0. 0. 0. 0.]\n",
      " [0. 0. 0. 0.]\n",
      " [0. 0. 0. 0.]\n",
      " [0. 0. 0. 0.]]\n"
     ]
    }
   ],
   "source": [
    "A = np.random.randn(4, 6)\n",
    "B = np.random.randn(6, 4)\n",
    "\n",
    "C1 = matrixMultiplication(A, B)\n",
    "\n",
    "C2 = A@B\n",
    "\n",
    "print(C1)\n",
    "print(C1 - C2)"
   ]
  },
  {
   "cell_type": "code",
   "execution_count": 5,
   "metadata": {},
   "outputs": [
    {
     "ename": "ValueError",
     "evalue": "Inner dimensions don't match",
     "output_type": "error",
     "traceback": [
      "\u001b[0;31m---------------------------------------------------------------------------\u001b[0m",
      "\u001b[0;31mValueError\u001b[0m                                Traceback (most recent call last)",
      "Cell \u001b[0;32mIn[5], line 4\u001b[0m\n\u001b[1;32m      1\u001b[0m A \u001b[38;5;241m=\u001b[39m np\u001b[38;5;241m.\u001b[39mrandom\u001b[38;5;241m.\u001b[39mrandn(\u001b[38;5;241m4\u001b[39m, \u001b[38;5;241m6\u001b[39m)\n\u001b[1;32m      2\u001b[0m B \u001b[38;5;241m=\u001b[39m np\u001b[38;5;241m.\u001b[39mrandom\u001b[38;5;241m.\u001b[39mrandn(\u001b[38;5;241m4\u001b[39m, \u001b[38;5;241m4\u001b[39m)\n\u001b[0;32m----> 4\u001b[0m C \u001b[38;5;241m=\u001b[39m \u001b[43mmatrixMultiplication\u001b[49m\u001b[43m(\u001b[49m\u001b[43mA\u001b[49m\u001b[43m,\u001b[49m\u001b[43m \u001b[49m\u001b[43mB\u001b[49m\u001b[43m)\u001b[49m\n",
      "Cell \u001b[0;32mIn[3], line 9\u001b[0m, in \u001b[0;36mmatrixMultiplication\u001b[0;34m(A, B)\u001b[0m\n\u001b[1;32m      7\u001b[0m \u001b[38;5;66;03m# check sizes and give error (if multiplication is not valid)\u001b[39;00m\n\u001b[1;32m      8\u001b[0m \u001b[38;5;28;01mif\u001b[39;00m size_A[\u001b[38;5;241m1\u001b[39m] \u001b[38;5;241m!=\u001b[39m size_B[\u001b[38;5;241m0\u001b[39m]:\n\u001b[0;32m----> 9\u001b[0m     \u001b[38;5;28;01mraise\u001b[39;00m \u001b[38;5;167;01mValueError\u001b[39;00m(\u001b[38;5;124m\"\u001b[39m\u001b[38;5;124mInner dimensions don\u001b[39m\u001b[38;5;124m'\u001b[39m\u001b[38;5;124mt match\u001b[39m\u001b[38;5;124m\"\u001b[39m)\n\u001b[1;32m     11\u001b[0m \u001b[38;5;66;03m# initialize\u001b[39;00m\n\u001b[1;32m     12\u001b[0m C \u001b[38;5;241m=\u001b[39m np\u001b[38;5;241m.\u001b[39mzeros((size_A[\u001b[38;5;241m0\u001b[39m], size_B[\u001b[38;5;241m1\u001b[39m]))\n",
      "\u001b[0;31mValueError\u001b[0m: Inner dimensions don't match"
     ]
    }
   ],
   "source": [
    "A = np.random.randn(4, 6)\n",
    "B = np.random.randn(4, 4)\n",
    "\n",
    "C = matrixMultiplication(A, B)"
   ]
  }
 ],
 "metadata": {
  "kernelspec": {
   "display_name": "math_env",
   "language": "python",
   "name": "python3"
  },
  "language_info": {
   "codemirror_mode": {
    "name": "ipython",
    "version": 3
   },
   "file_extension": ".py",
   "mimetype": "text/x-python",
   "name": "python",
   "nbconvert_exporter": "python",
   "pygments_lexer": "ipython3",
   "version": "3.11.4"
  }
 },
 "nbformat": 4,
 "nbformat_minor": 2
}
