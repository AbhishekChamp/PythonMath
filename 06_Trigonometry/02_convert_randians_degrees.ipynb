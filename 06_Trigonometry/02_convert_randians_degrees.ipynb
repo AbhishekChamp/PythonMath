{
 "cells": [
  {
   "cell_type": "code",
   "execution_count": 1,
   "metadata": {},
   "outputs": [],
   "source": [
    "import numpy as np\n",
    "import matplotlib.pyplot as plt"
   ]
  },
  {
   "cell_type": "code",
   "execution_count": 2,
   "metadata": {},
   "outputs": [
    {
     "name": "stdout",
     "output_type": "stream",
     "text": [
      "180 degrees is 3.14159 radians.\n"
     ]
    }
   ],
   "source": [
    "deg = 180\n",
    "\n",
    "print('%g degrees is %g radians.' %(deg, deg*np.pi/180))"
   ]
  },
  {
   "cell_type": "code",
   "execution_count": 3,
   "metadata": {},
   "outputs": [
    {
     "name": "stdout",
     "output_type": "stream",
     "text": [
      "90 degrees is 1.5708 radians.\n"
     ]
    }
   ],
   "source": [
    "deg = 90\n",
    "\n",
    "print('%g degrees is %g radians.' %(deg, deg*np.pi/180))"
   ]
  },
  {
   "cell_type": "code",
   "execution_count": 4,
   "metadata": {},
   "outputs": [
    {
     "name": "stdout",
     "output_type": "stream",
     "text": [
      "7.85768e+09 degrees is 1.29154 radians.\n"
     ]
    }
   ],
   "source": [
    "deg = 7857679394\n",
    "\n",
    "rad = deg*np.pi/180\n",
    "rad = rad%(2*np.pi)\n",
    "\n",
    "print('%g degrees is %g radians.' %(deg, rad))"
   ]
  },
  {
   "cell_type": "code",
   "execution_count": 5,
   "metadata": {},
   "outputs": [
    {
     "data": {
      "text/plain": [
       "180.0"
      ]
     },
     "execution_count": 5,
     "metadata": {},
     "output_type": "execute_result"
    }
   ],
   "source": [
    "rad = np.pi\n",
    "\n",
    "deg = 180*rad / np.pi\n",
    "deg"
   ]
  },
  {
   "cell_type": "code",
   "execution_count": 6,
   "metadata": {},
   "outputs": [
    {
     "data": {
      "text/plain": [
       "0.0"
      ]
     },
     "execution_count": 6,
     "metadata": {},
     "output_type": "execute_result"
    }
   ],
   "source": [
    "rad = 4*np.pi\n",
    "\n",
    "deg = (180*rad / np.pi)%360\n",
    "deg"
   ]
  },
  {
   "cell_type": "code",
   "execution_count": 7,
   "metadata": {},
   "outputs": [
    {
     "name": "stdout",
     "output_type": "stream",
     "text": [
      "12.566370614359172\n",
      "0.0\n"
     ]
    }
   ],
   "source": [
    "deg = 720\n",
    "\n",
    "rad = np.deg2rad(deg)\n",
    "print(rad)\n",
    "\n",
    "rad = np.deg2rad(deg)%(2*np.pi)\n",
    "print(rad)"
   ]
  },
  {
   "cell_type": "code",
   "execution_count": 8,
   "metadata": {},
   "outputs": [
    {
     "name": "stdout",
     "output_type": "stream",
     "text": [
      "720.0\n",
      "3.7168749815271696\n"
     ]
    }
   ],
   "source": [
    "rad = 4*np.pi\n",
    "\n",
    "deg = np.rad2deg(rad)\n",
    "print(deg)\n",
    "\n",
    "deg = np.rad2deg(rad)%(2*np.pi)\n",
    "print(deg)"
   ]
  },
  {
   "cell_type": "code",
   "execution_count": 9,
   "metadata": {},
   "outputs": [],
   "source": [
    "def angle_convert_plot():\n",
    "\n",
    "    # get the inputs from the user\n",
    "    angle = eval(input(\"What angle to convert?\"))\n",
    "    unit = input(\"What unit did you input (radian or degree)?\")\n",
    "\n",
    "    if unit.lower() == 'radian':\n",
    "        rad = angle\n",
    "        deg = np.rad2deg(angle)\n",
    "    elif unit.lower() == 'degree':\n",
    "        deg = angle\n",
    "        rad = np.deg2rad(angle)\n",
    "    else:\n",
    "        raise ValueError('Unknown unit')\n",
    "    \n",
    "    # convert below 360\n",
    "    deg = deg%360\n",
    "    rad = rad%2*np.pi\n",
    "\n",
    "    # Make the graph\n",
    "    plt.plot([0, 1], [0, 0], 'r', linewidth=2)\n",
    "    plt.plot([0, np.cos(rad)], [0, np.sin(rad)], 'r', linewidth=3)\n",
    "    plt.axis('square')\n",
    "    plt.axis([-1, 1, -1, 1])\n",
    "    plt.grid()\n",
    "    plt.title('Angle is %s$^o$ or %s rad' %(deg, rad))\n",
    "    plt.show()"
   ]
  },
  {
   "cell_type": "code",
   "execution_count": 10,
   "metadata": {},
   "outputs": [
    {
     "data": {
      "image/png": "[encoded data removed]",
      "text/plain": [
       "<Figure size 640x480 with 1 Axes>"
      ]
     },
     "metadata": {},
     "output_type": "display_data"
    }
   ],
   "source": [
    "angle_convert_plot()"
   ]
  }
 ],
 "metadata": {
  "kernelspec": {
   "display_name": "math_env",
   "language": "python",
   "name": "python3"
  },
  "language_info": {
   "codemirror_mode": {
    "name": "ipython",
    "version": 3
   },
   "file_extension": ".py",
   "mimetype": "text/x-python",
   "name": "python",
   "nbconvert_exporter": "python",
   "pygments_lexer": "ipython3",
   "version": "3.11.4"
  }
 },
 "nbformat": 4,
 "nbformat_minor": 2
}
