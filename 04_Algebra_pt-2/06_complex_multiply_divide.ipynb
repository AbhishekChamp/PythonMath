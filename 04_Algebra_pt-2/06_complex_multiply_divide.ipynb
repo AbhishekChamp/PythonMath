{
 "cells": [
  {
   "cell_type": "code",
   "execution_count": 1,
   "metadata": {},
   "outputs": [],
   "source": [
    "import sympy as sym\n",
    "import numpy as np\n",
    "import matplotlib.pyplot as plt\n",
    "from IPython.display import display, Math"
   ]
  },
  {
   "cell_type": "code",
   "execution_count": 2,
   "metadata": {},
   "outputs": [
    {
     "name": "stdout",
     "output_type": "stream",
     "text": [
      "(34+22j)\n"
     ]
    },
    {
     "data": {
      "text/latex": [
       "$\\displaystyle 34.0 + 22.0 i$"
      ],
      "text/plain": [
       "34.0 + 22.0*I"
      ]
     },
     "execution_count": 2,
     "metadata": {},
     "output_type": "execute_result"
    }
   ],
   "source": [
    "# create complex numbers\n",
    "z1 = complex(4,5)\n",
    "z2 = complex(6,-2)\n",
    "\n",
    "# multiplication the \"manual\" way\n",
    "w = np.real(z1)*np.real(z2) + np.real(z1)*np.imag(z2)*1j + np.imag(z1)*np.real(z2)*1j + np.imag(z1)*np.imag(z2)*1j*1j\n",
    "\n",
    "print(w)\n",
    "sym.sympify(w)"
   ]
  },
  {
   "cell_type": "code",
   "execution_count": 3,
   "metadata": {},
   "outputs": [
    {
     "data": {
      "text/latex": [
       "$\\displaystyle 34.0 + 22.0 i$"
      ],
      "text/plain": [
       "34.0 + 22.0*I"
      ]
     },
     "execution_count": 3,
     "metadata": {},
     "output_type": "execute_result"
    }
   ],
   "source": [
    "sym.sympify(z1*z2)"
   ]
  },
  {
   "cell_type": "code",
   "execution_count": 4,
   "metadata": {},
   "outputs": [
    {
     "name": "stdout",
     "output_type": "stream",
     "text": [
      "(4-3j)\n",
      "(4+3j)\n"
     ]
    }
   ],
   "source": [
    "z1 = complex(4,3)\n",
    "z2 = complex(4,-3)\n",
    "\n",
    "print( np.conj(z1) )\n",
    "print( np.conj(z2) )"
   ]
  },
  {
   "cell_type": "code",
   "execution_count": 5,
   "metadata": {},
   "outputs": [
    {
     "data": {
      "text/latex": [
       "$\\displaystyle a \\overline{a} - i a \\overline{b} + i b \\overline{a} + b \\overline{b}$"
      ],
      "text/plain": [
       "a*conjugate(a) - I*a*conjugate(b) + I*b*conjugate(a) + b*conjugate(b)"
      ]
     },
     "execution_count": 5,
     "metadata": {},
     "output_type": "execute_result"
    }
   ],
   "source": [
    "a,b = sym.symbols('a,b')#,real=True)\n",
    "\n",
    "z = a + b*sym.I\n",
    "\n",
    "sym.simplify( sym.expand( z*sym.conjugate(z) ) )"
   ]
  },
  {
   "cell_type": "code",
   "execution_count": 6,
   "metadata": {},
   "outputs": [
    {
     "data": {
      "text/latex": [
       "$\\displaystyle z\\times z^* = a \\overline{a} - i a \\overline{b} + i b \\overline{a} + b \\overline{b}$"
      ],
      "text/plain": [
       "<IPython.core.display.Math object>"
      ]
     },
     "metadata": {},
     "output_type": "display_data"
    }
   ],
   "source": [
    "result = sym.simplify( sym.expand( z*sym.conjugate(z) ) )\n",
    "display(Math('z\\\\times z^* = %s' %sym.latex(result)))"
   ]
  },
  {
   "cell_type": "code",
   "execution_count": 7,
   "metadata": {},
   "outputs": [
    {
     "data": {
      "text/latex": [
       "$\\displaystyle \\frac{(4+2j)}{2} = (2+1j)$"
      ],
      "text/plain": [
       "<IPython.core.display.Math object>"
      ]
     },
     "metadata": {},
     "output_type": "display_data"
    }
   ],
   "source": [
    "z1 = complex(4,2)\n",
    "z2 = complex(3,-5)\n",
    "\n",
    "display(Math('\\\\frac{%s}{2} = %s' %(z1,z1/2) ))"
   ]
  },
  {
   "cell_type": "code",
   "execution_count": 8,
   "metadata": {},
   "outputs": [
    {
     "data": {
      "text/latex": [
       "$\\displaystyle \\frac{(4+2j) \\times (3+5j)}{(3-5j) \\times (3+5j)} = \\frac{(2+26j)}{(34+0j)} = 0.0588235294117647 + 0.764705882352941 i$"
      ],
      "text/plain": [
       "<IPython.core.display.Math object>"
      ]
     },
     "metadata": {},
     "output_type": "display_data"
    }
   ],
   "source": [
    "display(Math('\\\\frac{%s \\\\times %s}{%s \\\\times %s} = \\\\frac{%s}{%s} = %s' # sometimes you need \\\n",
    "             %(z1,np.conj(z2), z2, np.conj(z2),\n",
    "               z1*np.conj(z2), z2*np.conj(z2), sym.latex(sym.sympify(z1/z2)) )))\n"
   ]
  },
  {
   "cell_type": "code",
   "execution_count": 9,
   "metadata": {},
   "outputs": [
    {
     "name": "stdout",
     "output_type": "stream",
     "text": [
      "(1+0j)\n"
     ]
    }
   ],
   "source": [
    "# create two numbers\n",
    "z = complex(4,2)\n",
    "w = complex(3,5)\n",
    "\n",
    "# the parts related to the left multiplicand\n",
    "left_numer = (z-1) * (z*w+w)\n",
    "left_denom = w*z-w\n",
    "left_part = left_numer / left_denom\n",
    "\n",
    "# the parts related to the right multiplicand\n",
    "right_numer = (w-1) * (1-w)\n",
    "right_denom = -w**2*z - w**2 + 2*w*z + 2*w - z - 1\n",
    "right_part = right_numer / right_denom\n",
    "\n",
    "# put them together\n",
    "solution = left_part * right_part\n",
    "\n",
    "# and print!\n",
    "print(solution)"
   ]
  }
 ],
 "metadata": {
  "kernelspec": {
   "display_name": "math_env",
   "language": "python",
   "name": "python3"
  },
  "language_info": {
   "codemirror_mode": {
    "name": "ipython",
    "version": 3
   },
   "file_extension": ".py",
   "mimetype": "text/x-python",
   "name": "python",
   "nbconvert_exporter": "python",
   "pygments_lexer": "ipython3",
   "version": "3.11.4"
  }
 },
 "nbformat": 4,
 "nbformat_minor": 2
}
