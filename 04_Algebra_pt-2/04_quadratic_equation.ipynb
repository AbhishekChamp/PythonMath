{
 "cells": [
  {
   "cell_type": "code",
   "execution_count": 1,
   "metadata": {},
   "outputs": [],
   "source": [
    "import numpy as np\n",
    "import matplotlib.pyplot as plt"
   ]
  },
  {
   "cell_type": "code",
   "execution_count": 2,
   "metadata": {},
   "outputs": [
    {
     "name": "stdout",
     "output_type": "stream",
     "text": [
      "-1.0 -2.5\n"
     ]
    }
   ],
   "source": [
    "a = 2\n",
    "b = 7\n",
    "c = 5\n",
    "\n",
    "quadeqP = ( -b + np.sqrt(b**2 - 4*a*c)) / (2*a)\n",
    "quadeqN = ( -b - np.sqrt(b**2 - 4*a*c)) / (2*a)\n",
    "\n",
    "print(quadeqP, quadeqN)"
   ]
  },
  {
   "cell_type": "code",
   "execution_count": 3,
   "metadata": {},
   "outputs": [
    {
     "name": "stdout",
     "output_type": "stream",
     "text": [
      "(-1.1666666666666665+0.5527707983925666j) (-1.1666666666666665-0.5527707983925666j)\n"
     ]
    }
   ],
   "source": [
    "a = 3\n",
    "b = 7\n",
    "c = 5\n",
    "\n",
    "quadeqP = ( -b + np.sqrt(b**2 - 4*a*c, dtype=complex)) / (2*a)\n",
    "quadeqN = ( -b - np.sqrt(b**2 - 4*a*c, dtype=complex)) / (2*a)\n",
    "\n",
    "print(quadeqP, quadeqN)"
   ]
  },
  {
   "cell_type": "code",
   "execution_count": 4,
   "metadata": {},
   "outputs": [
    {
     "name": "stdout",
     "output_type": "stream",
     "text": [
      "(-1.1666666666666665+0.5527707983925666j) (-1.1666666666666665-0.5527707983925666j)\n"
     ]
    }
   ],
   "source": [
    "a = 3\n",
    "b = 7\n",
    "c = 5\n",
    "\n",
    "quadeqP = (-b + np.lib.scimath.sqrt(b**2 - 4*a*c)) / (2*a)\n",
    "quadeqN = (-b - np.lib.scimath.sqrt(b**2 - 4*a*c)) / (2*a)\n",
    "\n",
    "print(quadeqP, quadeqN)"
   ]
  },
  {
   "cell_type": "code",
   "execution_count": 5,
   "metadata": {},
   "outputs": [],
   "source": [
    "def quadeq(a, b, c):\n",
    "\n",
    "    out = np.zeros(2, dtype=complex)\n",
    "\n",
    "    out[0] = ( -b - np.lib.scimath.sqrt(b**2 - 4*a*c) ) / (2*a)\n",
    "    out[1] = ( -b + np.lib.scimath.sqrt(b**2 - 4*a*c) ) / (2*a)\n",
    "    \n",
    "    return out"
   ]
  },
  {
   "cell_type": "code",
   "execution_count": 6,
   "metadata": {},
   "outputs": [
    {
     "name": "stdout",
     "output_type": "stream",
     "text": [
      "[-3.18614066+0.j -0.31385934+0.j]\n",
      "[-4.44948974+0.j  0.44948974+0.j]\n"
     ]
    }
   ],
   "source": [
    "print(quadeq(2, 7, 2))\n",
    "print(quadeq(1, 4, -2))"
   ]
  },
  {
   "cell_type": "code",
   "execution_count": 7,
   "metadata": {},
   "outputs": [
    {
     "data": {
      "image/png": "[encoded data removed]",
      "text/plain": [
       "<Figure size 640x480 with 2 Axes>"
      ]
     },
     "metadata": {},
     "output_type": "display_data"
    }
   ],
   "source": [
    "a = 1\n",
    "b = range(-5,6)\n",
    "c = range(-2,11)\n",
    "\n",
    "M = np.zeros((len(b),len(c)),dtype=complex)\n",
    "\n",
    "for i in range(0,len(b)):\n",
    "  for j in range(0,len(c)):\n",
    "    M[i,j] = quadeq(a,b[i],c[j])[0]\n",
    "\n",
    "\n",
    "plt.imshow(np.abs(M),extent=[ c[0],c[-1],b[0],b[-1] ],origin='lower')\n",
    "plt.xlabel('c')\n",
    "plt.ylabel('b')\n",
    "plt.title('a='+str(a))\n",
    "plt.colorbar()\n",
    "plt.show()"
   ]
  }
 ],
 "metadata": {
  "kernelspec": {
   "display_name": "math_env",
   "language": "python",
   "name": "python3"
  },
  "language_info": {
   "codemirror_mode": {
    "name": "ipython",
    "version": 3
   },
   "file_extension": ".py",
   "mimetype": "text/x-python",
   "name": "python",
   "nbconvert_exporter": "python",
   "pygments_lexer": "ipython3",
   "version": "3.11.4"
  }
 },
 "nbformat": 4,
 "nbformat_minor": 2
}
